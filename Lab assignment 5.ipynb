{
 "cells": [
  {
   "cell_type": "code",
   "execution_count": 4,
   "id": "c7143b42",
   "metadata": {},
   "outputs": [
    {
     "name": "stdout",
     "output_type": "stream",
     "text": [
      "Enter the the string :wycuydbcygqu\n",
      "uqgycbdyucyw\n"
     ]
    }
   ],
   "source": [
    "string=input(\"Enter the the string :\")\n",
    "print(string[::-1])"
   ]
  },
  {
   "cell_type": "code",
   "execution_count": 12,
   "id": "d5088b40",
   "metadata": {
    "scrolled": true
   },
   "outputs": [
    {
     "name": "stdout",
     "output_type": "stream",
     "text": [
      "Enter the range of numbers: 1 55\n",
      "Enter the number for divisibility: 2\n",
      "2\n",
      "4\n",
      "6\n",
      "8\n",
      "10\n",
      "12\n",
      "14\n",
      "16\n",
      "18\n",
      "20\n",
      "22\n",
      "24\n",
      "26\n",
      "28\n",
      "30\n",
      "32\n",
      "34\n",
      "36\n",
      "38\n",
      "40\n",
      "42\n",
      "44\n",
      "46\n",
      "48\n",
      "50\n",
      "52\n",
      "54\n"
     ]
    }
   ],
   "source": [
    "x,y=(input(\"Enter the range of numbers: \").split())\n",
    "num=int(input(\"Enter the number for divisibility: \"))\n",
    "x=int(x)\n",
    "y=int(y)\n",
    "for no in range(x,y+1):\n",
    "    if no%num==0 :\n",
    "        print(no)      "
   ]
  },
  {
   "cell_type": "code",
   "execution_count": 17,
   "id": "96308825",
   "metadata": {},
   "outputs": [
    {
     "name": "stdout",
     "output_type": "stream",
     "text": [
      "Enter the length of side:10\n",
      "Enter the length of side:12\n",
      "Enter the length of side:14\n",
      "58.787753826796276\n"
     ]
    }
   ],
   "source": [
    "a=float(input(\"Enter the length of side:\"))\n",
    "b=float(input(\"Enter the length of side:\"))\n",
    "c=float(input(\"Enter the length of side:\"))\n",
    "if a+b>c and a+c>b and b+c>a :\n",
    "    s=(a+b+c)/2\n",
    "    ar_tri=(s*(s-a)*(s-b)*(s-c))**(0.5)\n",
    "    print(ar_tri)\n",
    "else :\n",
    "    print(\"Error\")\n",
    "\n",
    "    "
   ]
  },
  {
   "cell_type": "code",
   "execution_count": 45,
   "id": "05d852f4",
   "metadata": {},
   "outputs": [
    {
     "name": "stdout",
     "output_type": "stream",
     "text": [
      "Enter the no. of rows :10\n",
      "*\n",
      "**\n",
      "***\n",
      "****\n",
      "*****\n",
      "******\n",
      "*****\n",
      "****\n",
      "***\n",
      "**\n",
      "*\n"
     ]
    }
   ],
   "source": [
    "n=int(input(\"Enter the no. of rows :\"))\n",
    "t=(n//2)+1\n",
    "l=n//2\n",
    "for i in range(1,t+1):\n",
    "    for j in range(1,i+1):\n",
    "        print(\"*\",end=\"\")\n",
    "    print()\n",
    "for q in range(l,0,-1):\n",
    "    for r in range(q,0,-1):\n",
    "        print(\"*\",end=\"\")\n",
    "    print()"
   ]
  },
  {
   "cell_type": "code",
   "execution_count": 31,
   "id": "a322472e",
   "metadata": {},
   "outputs": [
    {
     "name": "stdout",
     "output_type": "stream",
     "text": [
      "Enter number of rows: 5\n",
      "A\n",
      "BC\n",
      "DEF\n",
      "GHIJ\n",
      "KLMNO\n"
     ]
    }
   ],
   "source": [
    "n=int(input(\"Enter number of rows: \"))\n",
    "p=ord(\"A\")\n",
    "for rows in range(1,n+1):\n",
    "    for col in range(1,rows+1):\n",
    "        print(chr(p),end=\"\")\n",
    "        p+=1\n",
    "    print()"
   ]
  },
  {
   "cell_type": "code",
   "execution_count": 7,
   "id": "2a940153",
   "metadata": {},
   "outputs": [
    {
     "name": "stdout",
     "output_type": "stream",
     "text": [
      "Enter the maximum number of range: 98\n",
      "Enter the minimum number of range: 1\n",
      "1\n",
      "2\n",
      "3\n",
      "5\n",
      "7\n",
      "11\n",
      "13\n",
      "17\n",
      "19\n",
      "23\n",
      "29\n",
      "31\n",
      "37\n",
      "41\n",
      "43\n",
      "47\n",
      "53\n",
      "59\n",
      "61\n",
      "67\n",
      "71\n",
      "73\n",
      "79\n",
      "83\n",
      "89\n",
      "97\n"
     ]
    }
   ],
   "source": [
    "high=int(input(\"Enter the maximum number of range: \"))\n",
    "low=int(input(\"Enter the minimum number of range: \"))\n",
    "for no in range(low,high+1):\n",
    "    for i in range(2,no):\n",
    "        if no%i==0:\n",
    "            break\n",
    "    else :\n",
    "        print(no)"
   ]
  },
  {
   "cell_type": "code",
   "execution_count": 11,
   "id": "0cf462ed",
   "metadata": {},
   "outputs": [
    {
     "name": "stdout",
     "output_type": "stream",
     "text": [
      "The numbers divisible by 11 and are multiple of 7 are : [77, 154, 231, 308, 385, 462]\n"
     ]
    }
   ],
   "source": [
    "accum=[]\n",
    "for i in range(1,500):\n",
    "    if i%7==0 and i%11==0 :\n",
    "        accum.append(i)\n",
    "print(\"The numbers divisible by 11 and are multiple of 7 are :\",accum)        "
   ]
  },
  {
   "cell_type": "code",
   "execution_count": 20,
   "id": "79dda785",
   "metadata": {},
   "outputs": [
    {
     "name": "stdout",
     "output_type": "stream",
     "text": [
      "Enter the number 9\n",
      "Enter the number 91\n",
      "Enter the number 7\n",
      "Enter the number 7\n",
      "Enter the number -16\n",
      "Enter the number -15\n",
      "Enter the number -41\n",
      "Enter the number 489\n",
      "Enter the number 789\n",
      "Enter the number -16\n",
      "[9, 91, 7, 7, 489, 789]\n",
      "[-16, -15, -41, -16]\n",
      "[-16, -16]\n",
      "[9, 91, 7, 7, -15, -41, 489, 789]\n",
      "{9: 1, 91: 1, 7: 2, -16: 2, -15: 1, -41: 1, 489: 1, 789: 1}\n"
     ]
    }
   ],
   "source": [
    "pos=[]\n",
    "neg=[]\n",
    "odd=[]\n",
    "even=[]\n",
    "times={}\n",
    "li=[]\n",
    "for i in range(10):\n",
    "    num=int(input(\"Enter the number \"))\n",
    "    li.append(num)\n",
    "    if num>0:\n",
    "        pos.append(num)\n",
    "    elif num<0 :\n",
    "        neg.append(num)\n",
    "    if num%2==0 :\n",
    "        even.append(num)\n",
    "    else :\n",
    "        odd.append(num)\n",
    "    if num not in times :\n",
    "            times[num]=1\n",
    "    else:\n",
    "        times[num]+=1\n",
    "print(\"Positive numbers are: \",pos)\n",
    "print(\"Negative numbers are: \",neg)\n",
    "print(\"Even numbers are: \",even)\n",
    "print(\"Odd numbers are: \",odd)\n",
    "print(\"Number of times each number occurs in the List\",times)"
   ]
  },
  {
   "cell_type": "code",
   "execution_count": 23,
   "id": "dfa3997c",
   "metadata": {},
   "outputs": [
    {
     "name": "stdout",
     "output_type": "stream",
     "text": [
      "Number of words: 8\n",
      "Enter the word: My\n",
      "Enter the word: Name\n",
      "Enter the word: is\n",
      "Enter the word: Ketan\n",
      "Enter the word: PEC\n",
      "Enter the word: ITC \\\n",
      "Enter the word: is\n",
      "Enter the word: ITC\n",
      "The list of words is:  ['My', 'Name', 'is', 'Ketan', 'PEC', 'ITC \\\\', 'is', 'ITC']\n",
      "Number of occurences:  {'My': 1, 'Name': 1, 'is': 2, 'Ketan': 1, 'PEC': 1, 'ITC \\\\': 1, 'ITC': 1}\n"
     ]
    }
   ],
   "source": [
    "n=int(input(\"Number of words: \"))\n",
    "li=[]\n",
    "for i in range(n):\n",
    "    word=input(\"Enter the word: \")\n",
    "    li.append(word)\n",
    "times={}\n",
    "for i in li :\n",
    "    if i not in times :\n",
    "        times[i]=1\n",
    "    else :\n",
    "        times[i]+=1\n",
    "print(\"Number of occurences: \",times)"
   ]
  }
 ],
 "metadata": {
  "kernelspec": {
   "display_name": "Python 3 (ipykernel)",
   "language": "python",
   "name": "python3"
  },
  "language_info": {
   "codemirror_mode": {
    "name": "ipython",
    "version": 3
   },
   "file_extension": ".py",
   "mimetype": "text/x-python",
   "name": "python",
   "nbconvert_exporter": "python",
   "pygments_lexer": "ipython3",
   "version": "3.9.12"
  }
 },
 "nbformat": 4,
 "nbformat_minor": 5
}
